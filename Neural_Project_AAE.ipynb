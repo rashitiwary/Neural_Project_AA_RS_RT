{
  "cells": [
    {
      "cell_type": "markdown",
      "metadata": {
        "id": "nsExbXweyPAD"
      },
      "source": [
        "# Dataset introduction\n",
        "\n",
        "The dataset chosen for this project is a celeberity dataset. Through this dataset we will be trying to generate faces and with certain attributes like smiling, young, male or female and so on.\n",
        "\n",
        "We have 4 different files as described below:\n",
        "\n",
        "1. **img_align_celeba.zip**: All the face images\n",
        "2. **list_eval_partition.csv**: Recommended partitioning of images into training, validation, testing sets. Images 1-162770 are training, 162771-182637 are validation, 182638-202599 are testing\n",
        "3. **list_bbox_celeba.csv**: Bounding box information for each image. \"x_1\" and \"y_1\" represent the upper left point coordinate of bounding box. \"width\" and \"height\" represent the width and height of bounding box\n",
        "4. **list_landmarks_align_celeba.csv**: Image landmarks and their respective coordinates. There are 5 landmarks: left eye, right eye, nose, left mouth, right mouth\n",
        "5. **list_attr_celeba.csv**: Attribute labels for each image. There are 40 attributes. \"1\" represents positive while \"-1\" represents negative"
      ]
    },
    {
      "cell_type": "code",
      "execution_count": null,
      "metadata": {
        "id": "0O9w5Wi-07ng"
      },
      "outputs": [],
      "source": [
        "from google.colab import drive\n",
        "drive.mount('/content/drive')\n",
        "\n",
        "%cd /content/drive/MyDrive/Neural_Project_Celeba/"
      ]
    },
    {
      "cell_type": "code",
      "execution_count": null,
      "metadata": {},
      "outputs": [],
      "source": [
        "pip install pandas"
      ]
    },
    {
      "cell_type": "code",
      "execution_count": 3,
      "metadata": {},
      "outputs": [
        {
          "name": "stdout",
          "output_type": "stream",
          "text": [
            "Collecting opencv-python\n",
            "  Downloading opencv_python-4.8.1.78-cp37-abi3-macosx_11_0_arm64.whl (33.1 MB)\n",
            "\u001b[2K     \u001b[90m━━━━━━━━━━━━━━━━━━━━━━━━━━━━━━━━━━━━━━━━\u001b[0m \u001b[32m33.1/33.1 MB\u001b[0m \u001b[31m40.3 MB/s\u001b[0m eta \u001b[36m0:00:00\u001b[0m00:01\u001b[0m00:01\u001b[0m\n",
            "\u001b[?25hRequirement already satisfied: numpy>=1.21.2 in /Library/Frameworks/Python.framework/Versions/3.10/lib/python3.10/site-packages (from opencv-python) (1.24.2)\n",
            "Installing collected packages: opencv-python\n",
            "Successfully installed opencv-python-4.8.1.78\n",
            "\n",
            "\u001b[1m[\u001b[0m\u001b[34;49mnotice\u001b[0m\u001b[1;39;49m]\u001b[0m\u001b[39;49m A new release of pip is available: \u001b[0m\u001b[31;49m23.1\u001b[0m\u001b[39;49m -> \u001b[0m\u001b[32;49m23.3.1\u001b[0m\n",
            "\u001b[1m[\u001b[0m\u001b[34;49mnotice\u001b[0m\u001b[1;39;49m]\u001b[0m\u001b[39;49m To update, run: \u001b[0m\u001b[32;49mpip3 install --upgrade pip\u001b[0m\n",
            "Note: you may need to restart the kernel to use updated packages.\n"
          ]
        }
      ],
      "source": [
        "pip install opencv-python"
      ]
    },
    {
      "cell_type": "code",
      "execution_count": 5,
      "metadata": {},
      "outputs": [
        {
          "name": "stdout",
          "output_type": "stream",
          "text": [
            "Collecting tensorflow\n",
            "  Downloading tensorflow-2.15.0-cp310-cp310-macosx_12_0_arm64.whl (2.1 kB)\n",
            "Collecting tensorflow-macos==2.15.0 (from tensorflow)\n",
            "  Downloading tensorflow_macos-2.15.0-cp310-cp310-macosx_12_0_arm64.whl (208.8 MB)\n",
            "\u001b[2K     \u001b[90m━━━━━━━━━━━━━━━━━━━━━━━━━━━━━━━━━━━━━━\u001b[0m \u001b[32m208.8/208.8 MB\u001b[0m \u001b[31m14.0 MB/s\u001b[0m eta \u001b[36m0:00:00\u001b[0m00:01\u001b[0m00:01\u001b[0m\n",
            "\u001b[?25hCollecting absl-py>=1.0.0 (from tensorflow-macos==2.15.0->tensorflow)\n",
            "  Downloading absl_py-2.0.0-py3-none-any.whl (130 kB)\n",
            "\u001b[2K     \u001b[90m━━━━━━━━━━━━━━━━━━━━━━━━━━━━━━━━━━━━━━\u001b[0m \u001b[32m130.2/130.2 kB\u001b[0m \u001b[31m15.9 MB/s\u001b[0m eta \u001b[36m0:00:00\u001b[0m\n",
            "\u001b[?25hCollecting astunparse>=1.6.0 (from tensorflow-macos==2.15.0->tensorflow)\n",
            "  Using cached astunparse-1.6.3-py2.py3-none-any.whl (12 kB)\n",
            "Collecting flatbuffers>=23.5.26 (from tensorflow-macos==2.15.0->tensorflow)\n",
            "  Downloading flatbuffers-23.5.26-py2.py3-none-any.whl (26 kB)\n",
            "Collecting gast!=0.5.0,!=0.5.1,!=0.5.2,>=0.2.1 (from tensorflow-macos==2.15.0->tensorflow)\n",
            "  Downloading gast-0.5.4-py3-none-any.whl (19 kB)\n",
            "Collecting google-pasta>=0.1.1 (from tensorflow-macos==2.15.0->tensorflow)\n",
            "  Using cached google_pasta-0.2.0-py3-none-any.whl (57 kB)\n",
            "Collecting h5py>=2.9.0 (from tensorflow-macos==2.15.0->tensorflow)\n",
            "  Downloading h5py-3.10.0-cp310-cp310-macosx_11_0_arm64.whl (2.7 MB)\n",
            "\u001b[2K     \u001b[90m━━━━━━━━━━━━━━━━━━━━━━━━━━━━━━━━━━━━━━━━\u001b[0m \u001b[32m2.7/2.7 MB\u001b[0m \u001b[31m40.0 MB/s\u001b[0m eta \u001b[36m0:00:00\u001b[0ma \u001b[36m0:00:01\u001b[0m\n",
            "\u001b[?25hCollecting libclang>=13.0.0 (from tensorflow-macos==2.15.0->tensorflow)\n",
            "  Downloading libclang-16.0.6-py2.py3-none-macosx_11_0_arm64.whl (20.6 MB)\n",
            "\u001b[2K     \u001b[90m━━━━━━━━━━━━━━━━━━━━━━━━━━━━━━━━━━━━━━━━\u001b[0m \u001b[32m20.6/20.6 MB\u001b[0m \u001b[31m37.8 MB/s\u001b[0m eta \u001b[36m0:00:00\u001b[0m00:01\u001b[0m00:01\u001b[0m\n",
            "\u001b[?25hCollecting ml-dtypes~=0.2.0 (from tensorflow-macos==2.15.0->tensorflow)\n",
            "  Downloading ml_dtypes-0.2.0-cp310-cp310-macosx_10_9_universal2.whl (1.2 MB)\n",
            "\u001b[2K     \u001b[90m━━━━━━━━━━━━━━━━━━━━━━━━━━━━━━━━━━━━━━━━\u001b[0m \u001b[32m1.2/1.2 MB\u001b[0m \u001b[31m38.3 MB/s\u001b[0m eta \u001b[36m0:00:00\u001b[0m\n",
            "\u001b[?25hRequirement already satisfied: numpy<2.0.0,>=1.23.5 in /Library/Frameworks/Python.framework/Versions/3.10/lib/python3.10/site-packages (from tensorflow-macos==2.15.0->tensorflow) (1.24.2)\n",
            "Collecting opt-einsum>=2.3.2 (from tensorflow-macos==2.15.0->tensorflow)\n",
            "  Using cached opt_einsum-3.3.0-py3-none-any.whl (65 kB)\n",
            "Requirement already satisfied: packaging in /Library/Frameworks/Python.framework/Versions/3.10/lib/python3.10/site-packages (from tensorflow-macos==2.15.0->tensorflow) (23.0)\n",
            "Collecting protobuf!=4.21.0,!=4.21.1,!=4.21.2,!=4.21.3,!=4.21.4,!=4.21.5,<5.0.0dev,>=3.20.3 (from tensorflow-macos==2.15.0->tensorflow)\n",
            "  Downloading protobuf-4.25.1-cp37-abi3-macosx_10_9_universal2.whl (394 kB)\n",
            "\u001b[2K     \u001b[90m━━━━━━━━━━━━━━━━━━━━━━━━━━━━━━━━━━━━━━\u001b[0m \u001b[32m394.2/394.2 kB\u001b[0m \u001b[31m27.7 MB/s\u001b[0m eta \u001b[36m0:00:00\u001b[0m\n",
            "\u001b[?25hRequirement already satisfied: setuptools in /Library/Frameworks/Python.framework/Versions/3.10/lib/python3.10/site-packages (from tensorflow-macos==2.15.0->tensorflow) (65.5.0)\n",
            "Requirement already satisfied: six>=1.12.0 in /Library/Frameworks/Python.framework/Versions/3.10/lib/python3.10/site-packages (from tensorflow-macos==2.15.0->tensorflow) (1.16.0)\n",
            "Collecting termcolor>=1.1.0 (from tensorflow-macos==2.15.0->tensorflow)\n",
            "  Downloading termcolor-2.3.0-py3-none-any.whl (6.9 kB)\n",
            "Collecting typing-extensions>=3.6.6 (from tensorflow-macos==2.15.0->tensorflow)\n",
            "  Downloading typing_extensions-4.8.0-py3-none-any.whl (31 kB)\n",
            "Collecting wrapt<1.15,>=1.11.0 (from tensorflow-macos==2.15.0->tensorflow)\n",
            "  Downloading wrapt-1.14.1-cp310-cp310-macosx_11_0_arm64.whl (35 kB)\n",
            "Collecting tensorflow-io-gcs-filesystem>=0.23.1 (from tensorflow-macos==2.15.0->tensorflow)\n",
            "  Downloading tensorflow_io_gcs_filesystem-0.34.0-cp310-cp310-macosx_12_0_arm64.whl (1.9 MB)\n",
            "\u001b[2K     \u001b[90m━━━━━━━━━━━━━━━━━━━━━━━━━━━━━━━━━━━━━━━━\u001b[0m \u001b[32m1.9/1.9 MB\u001b[0m \u001b[31m40.0 MB/s\u001b[0m eta \u001b[36m0:00:00\u001b[0ma \u001b[36m0:00:01\u001b[0m\n",
            "\u001b[?25hCollecting grpcio<2.0,>=1.24.3 (from tensorflow-macos==2.15.0->tensorflow)\n",
            "  Downloading grpcio-1.59.3-cp310-cp310-macosx_12_0_universal2.whl (9.6 MB)\n",
            "\u001b[2K     \u001b[90m━━━━━━━━━━━━━━━━━━━━━━━━━━━━━━━━━━━━━━━━\u001b[0m \u001b[32m9.6/9.6 MB\u001b[0m \u001b[31m42.0 MB/s\u001b[0m eta \u001b[36m0:00:00\u001b[0m00:01\u001b[0m00:01\u001b[0m\n",
            "\u001b[?25hCollecting tensorboard<2.16,>=2.15 (from tensorflow-macos==2.15.0->tensorflow)\n",
            "  Downloading tensorboard-2.15.1-py3-none-any.whl (5.5 MB)\n",
            "\u001b[2K     \u001b[90m━━━━━━━━━━━━━━━━━━━━━━━━━━━━━━━━━━━━━━━━\u001b[0m \u001b[32m5.5/5.5 MB\u001b[0m \u001b[31m41.3 MB/s\u001b[0m eta \u001b[36m0:00:00\u001b[0ma \u001b[36m0:00:01\u001b[0m\n",
            "\u001b[?25hCollecting tensorflow-estimator<2.16,>=2.15.0 (from tensorflow-macos==2.15.0->tensorflow)\n",
            "  Downloading tensorflow_estimator-2.15.0-py2.py3-none-any.whl (441 kB)\n",
            "\u001b[2K     \u001b[90m━━━━━━━━━━━━━━━━━━━━━━━━━━━━━━━━━━━━━━\u001b[0m \u001b[32m442.0/442.0 kB\u001b[0m \u001b[31m38.5 MB/s\u001b[0m eta \u001b[36m0:00:00\u001b[0m\n",
            "\u001b[?25hCollecting keras<2.16,>=2.15.0 (from tensorflow-macos==2.15.0->tensorflow)\n",
            "  Downloading keras-2.15.0-py3-none-any.whl (1.7 MB)\n",
            "\u001b[2K     \u001b[90m━━━━━━━━━━━━━━━━━━━━━━━━━━━━━━━━━━━━━━━━\u001b[0m \u001b[32m1.7/1.7 MB\u001b[0m \u001b[31m40.2 MB/s\u001b[0m eta \u001b[36m0:00:00\u001b[0m00:01\u001b[0m\n",
            "\u001b[?25hCollecting wheel<1.0,>=0.23.0 (from astunparse>=1.6.0->tensorflow-macos==2.15.0->tensorflow)\n",
            "  Downloading wheel-0.42.0-py3-none-any.whl (65 kB)\n",
            "\u001b[2K     \u001b[90m━━━━━━━━━━━━━━━━━━━━━━━━━━━━━━━━━━━━━━━━\u001b[0m \u001b[32m65.4/65.4 kB\u001b[0m \u001b[31m9.7 MB/s\u001b[0m eta \u001b[36m0:00:00\u001b[0m\n",
            "\u001b[?25hCollecting google-auth<3,>=1.6.3 (from tensorboard<2.16,>=2.15->tensorflow-macos==2.15.0->tensorflow)\n",
            "  Downloading google_auth-2.23.4-py2.py3-none-any.whl (183 kB)\n",
            "\u001b[2K     \u001b[90m━━━━━━━━━━━━━━━━━━━━━━━━━━━━━━━━━━━━━━\u001b[0m \u001b[32m183.3/183.3 kB\u001b[0m \u001b[31m22.3 MB/s\u001b[0m eta \u001b[36m0:00:00\u001b[0m\n",
            "\u001b[?25hCollecting google-auth-oauthlib<2,>=0.5 (from tensorboard<2.16,>=2.15->tensorflow-macos==2.15.0->tensorflow)\n",
            "  Downloading google_auth_oauthlib-1.1.0-py2.py3-none-any.whl (19 kB)\n",
            "Collecting markdown>=2.6.8 (from tensorboard<2.16,>=2.15->tensorflow-macos==2.15.0->tensorflow)\n",
            "  Downloading Markdown-3.5.1-py3-none-any.whl (102 kB)\n",
            "\u001b[2K     \u001b[90m━━━━━━━━━━━━━━━━━━━━━━━━━━━━━━━━━━━━━━\u001b[0m \u001b[32m102.2/102.2 kB\u001b[0m \u001b[31m10.5 MB/s\u001b[0m eta \u001b[36m0:00:00\u001b[0m\n",
            "\u001b[?25hCollecting protobuf!=4.21.0,!=4.21.1,!=4.21.2,!=4.21.3,!=4.21.4,!=4.21.5,<5.0.0dev,>=3.20.3 (from tensorflow-macos==2.15.0->tensorflow)\n",
            "  Downloading protobuf-4.23.4-cp37-abi3-macosx_10_9_universal2.whl (400 kB)\n",
            "\u001b[2K     \u001b[90m━━━━━━━━━━━━━━━━━━━━━━━━━━━━━━━━━━━━━━\u001b[0m \u001b[32m400.3/400.3 kB\u001b[0m \u001b[31m50.0 MB/s\u001b[0m eta \u001b[36m0:00:00\u001b[0m\n",
            "\u001b[?25hRequirement already satisfied: requests<3,>=2.21.0 in /Library/Frameworks/Python.framework/Versions/3.10/lib/python3.10/site-packages (from tensorboard<2.16,>=2.15->tensorflow-macos==2.15.0->tensorflow) (2.28.2)\n",
            "Collecting tensorboard-data-server<0.8.0,>=0.7.0 (from tensorboard<2.16,>=2.15->tensorflow-macos==2.15.0->tensorflow)\n",
            "  Downloading tensorboard_data_server-0.7.2-py3-none-any.whl (2.4 kB)\n",
            "Collecting werkzeug>=1.0.1 (from tensorboard<2.16,>=2.15->tensorflow-macos==2.15.0->tensorflow)\n",
            "  Downloading werkzeug-3.0.1-py3-none-any.whl (226 kB)\n",
            "\u001b[2K     \u001b[90m━━━━━━━━━━━━━━━━━━━━━━━━━━━━━━━━━━━━━━\u001b[0m \u001b[32m226.7/226.7 kB\u001b[0m \u001b[31m25.1 MB/s\u001b[0m eta \u001b[36m0:00:00\u001b[0m\n",
            "\u001b[?25hCollecting cachetools<6.0,>=2.0.0 (from google-auth<3,>=1.6.3->tensorboard<2.16,>=2.15->tensorflow-macos==2.15.0->tensorflow)\n",
            "  Downloading cachetools-5.3.2-py3-none-any.whl (9.3 kB)\n",
            "Collecting pyasn1-modules>=0.2.1 (from google-auth<3,>=1.6.3->tensorboard<2.16,>=2.15->tensorflow-macos==2.15.0->tensorflow)\n",
            "  Using cached pyasn1_modules-0.3.0-py2.py3-none-any.whl (181 kB)\n",
            "Collecting rsa<5,>=3.1.4 (from google-auth<3,>=1.6.3->tensorboard<2.16,>=2.15->tensorflow-macos==2.15.0->tensorflow)\n",
            "  Using cached rsa-4.9-py3-none-any.whl (34 kB)\n",
            "Collecting requests-oauthlib>=0.7.0 (from google-auth-oauthlib<2,>=0.5->tensorboard<2.16,>=2.15->tensorflow-macos==2.15.0->tensorflow)\n",
            "  Using cached requests_oauthlib-1.3.1-py2.py3-none-any.whl (23 kB)\n",
            "Requirement already satisfied: charset-normalizer<4,>=2 in /Library/Frameworks/Python.framework/Versions/3.10/lib/python3.10/site-packages (from requests<3,>=2.21.0->tensorboard<2.16,>=2.15->tensorflow-macos==2.15.0->tensorflow) (3.1.0)\n",
            "Requirement already satisfied: idna<4,>=2.5 in /Users/rashitiwary/Library/Python/3.10/lib/python/site-packages (from requests<3,>=2.21.0->tensorboard<2.16,>=2.15->tensorflow-macos==2.15.0->tensorflow) (3.4)\n",
            "Requirement already satisfied: urllib3<1.27,>=1.21.1 in /Library/Frameworks/Python.framework/Versions/3.10/lib/python3.10/site-packages (from requests<3,>=2.21.0->tensorboard<2.16,>=2.15->tensorflow-macos==2.15.0->tensorflow) (1.26.15)\n",
            "Requirement already satisfied: certifi>=2017.4.17 in /Library/Frameworks/Python.framework/Versions/3.10/lib/python3.10/site-packages (from requests<3,>=2.21.0->tensorboard<2.16,>=2.15->tensorflow-macos==2.15.0->tensorflow) (2022.12.7)\n",
            "Requirement already satisfied: MarkupSafe>=2.1.1 in /Users/rashitiwary/Library/Python/3.10/lib/python/site-packages (from werkzeug>=1.0.1->tensorboard<2.16,>=2.15->tensorflow-macos==2.15.0->tensorflow) (2.1.2)\n",
            "Collecting pyasn1<0.6.0,>=0.4.6 (from pyasn1-modules>=0.2.1->google-auth<3,>=1.6.3->tensorboard<2.16,>=2.15->tensorflow-macos==2.15.0->tensorflow)\n",
            "  Downloading pyasn1-0.5.1-py2.py3-none-any.whl (84 kB)\n",
            "\u001b[2K     \u001b[90m━━━━━━━━━━━━━━━━━━━━━━━━━━━━━━━━━━━━━━━━\u001b[0m \u001b[32m84.9/84.9 kB\u001b[0m \u001b[31m12.2 MB/s\u001b[0m eta \u001b[36m0:00:00\u001b[0m\n",
            "\u001b[?25hCollecting oauthlib>=3.0.0 (from requests-oauthlib>=0.7.0->google-auth-oauthlib<2,>=0.5->tensorboard<2.16,>=2.15->tensorflow-macos==2.15.0->tensorflow)\n",
            "  Using cached oauthlib-3.2.2-py3-none-any.whl (151 kB)\n",
            "Installing collected packages: libclang, flatbuffers, wrapt, wheel, werkzeug, typing-extensions, termcolor, tensorflow-io-gcs-filesystem, tensorflow-estimator, tensorboard-data-server, pyasn1, protobuf, opt-einsum, oauthlib, ml-dtypes, markdown, keras, h5py, grpcio, google-pasta, gast, cachetools, absl-py, rsa, requests-oauthlib, pyasn1-modules, astunparse, google-auth, google-auth-oauthlib, tensorboard, tensorflow-macos, tensorflow\n",
            "  Attempting uninstall: keras\n",
            "    Found existing installation: keras 2.12.0\n",
            "    Uninstalling keras-2.12.0:\n",
            "      Successfully uninstalled keras-2.12.0\n",
            "Successfully installed absl-py-2.0.0 astunparse-1.6.3 cachetools-5.3.2 flatbuffers-23.5.26 gast-0.5.4 google-auth-2.23.4 google-auth-oauthlib-1.1.0 google-pasta-0.2.0 grpcio-1.59.3 h5py-3.10.0 keras-2.15.0 libclang-16.0.6 markdown-3.5.1 ml-dtypes-0.2.0 oauthlib-3.2.2 opt-einsum-3.3.0 protobuf-4.23.4 pyasn1-0.5.1 pyasn1-modules-0.3.0 requests-oauthlib-1.3.1 rsa-4.9 tensorboard-2.15.1 tensorboard-data-server-0.7.2 tensorflow-2.15.0 tensorflow-estimator-2.15.0 tensorflow-io-gcs-filesystem-0.34.0 tensorflow-macos-2.15.0 termcolor-2.3.0 typing-extensions-4.8.0 werkzeug-3.0.1 wheel-0.42.0 wrapt-1.14.1\n",
            "\n",
            "\u001b[1m[\u001b[0m\u001b[34;49mnotice\u001b[0m\u001b[1;39;49m]\u001b[0m\u001b[39;49m A new release of pip is available: \u001b[0m\u001b[31;49m23.1\u001b[0m\u001b[39;49m -> \u001b[0m\u001b[32;49m23.3.1\u001b[0m\n",
            "\u001b[1m[\u001b[0m\u001b[34;49mnotice\u001b[0m\u001b[1;39;49m]\u001b[0m\u001b[39;49m To update, run: \u001b[0m\u001b[32;49mpip3 install --upgrade pip\u001b[0m\n",
            "Note: you may need to restart the kernel to use updated packages.\n"
          ]
        }
      ],
      "source": [
        "pip install tensorflow"
      ]
    },
    {
      "cell_type": "markdown",
      "metadata": {
        "id": "JJ0df5QG5dqs"
      },
      "source": [
        "this is configured to extract data located in my drive, if you're working on the notebook, uncomment the code rashi wrote below. - rutvik\n",
        "              "
      ]
    },
    {
      "cell_type": "code",
      "execution_count": null,
      "metadata": {
        "colab": {
          "background_save": true,
          "base_uri": "https://localhost:8080/"
        },
        "id": "b1c0DrT74MJA",
        "outputId": "484e9fb8-5f45-47cb-891d-58dd90e646f1"
      },
      "outputs": [],
      "source": [
        "%cd /content/drive/MyDrive/Neural_Project_Celeba/\n",
        "\n",
        "!unzip img_align_celeba.zip"
      ]
    },
    {
      "cell_type": "code",
      "execution_count": 1,
      "metadata": {
        "id": "mr2HkoI9iL1i"
      },
      "outputs": [],
      "source": [
        "#Importing zipfile for unzipping the dataset file\n",
        "import zipfile\n",
        "import pandas as pd\n",
        "import numpy as np\n",
        "import matplotlib.pyplot as plt\n",
        "import random\n",
        "import cv2\n",
        "import os\n",
        "import tensorflow as tf\n",
        "\n",
        "from tensorflow import keras\n",
        "from tensorflow.keras import layers\n",
        "from keras.preprocessing.image import load_img\n",
        "from PIL import Image\n",
        "# from google.colab import drive\n",
        "from keras.layers import Input, Conv2D, Flatten, Dense\n",
        "from keras.models import Model\n",
        "from tensorflow.keras.layers import Dropout, Lambda, Reshape, Conv2DTranspose\n",
        "from tensorflow.keras import backend as K\n",
        "from tensorflow.keras.losses import binary_crossentropy\n",
        "# from tensorflow.python.framework.ops import disable_eager_execution\n",
        "# disable_eager_execution()"
      ]
    },
    {
      "cell_type": "code",
      "execution_count": 9,
      "metadata": {
        "colab": {
          "base_uri": "https://localhost:8080/"
        },
        "id": "PCk0uJ1M6X9h",
        "outputId": "3ef49c34-b8d7-46f4-b352-7a9bf7d841b5"
      },
      "outputs": [
        {
          "name": "stdout",
          "output_type": "stream",
          "text": [
            "Mounted at /content/drive\n"
          ]
        }
      ],
      "source": [
        "# Mounting Google Drive\n",
        "drive.mount('/content/drive',force_remount=True)\n",
        "\n",
        "# drive.flush_and_unmount()"
      ]
    },
    {
      "cell_type": "code",
      "execution_count": 10,
      "metadata": {
        "colab": {
          "base_uri": "https://localhost:8080/"
        },
        "id": "Sy1I-vvM64_r",
        "outputId": "19224b53-286b-45bc-ad6f-b13951d2905c"
      },
      "outputs": [
        {
          "name": "stdout",
          "output_type": "stream",
          "text": [
            "/content/drive/MyDrive/Neural_Project_Celeba\n"
          ]
        }
      ],
      "source": [
        "# Navigating to the directory containing the zip file\n",
        "%cd /content/drive/MyDrive/Neural_Project_Celeba/\n",
        "\n",
        "# Unzipping the file\n",
        "!unzip img_align_celeba.zip"
      ]
    },
    {
      "cell_type": "markdown",
      "metadata": {},
      "source": [
        "The below code is for the file where the attributes of each of the image is given and the corresponding values, where 1 indicates a Yes and -1 ondicates a No."
      ]
    },
    {
      "cell_type": "code",
      "execution_count": 4,
      "metadata": {
        "colab": {
          "base_uri": "https://localhost:8080/"
        },
        "id": "bmGIIKM9x1IM",
        "outputId": "ad3eef64-8243-4d61-88a8-780063349751"
      },
      "outputs": [
        {
          "data": {
            "text/plain": [
              "(202599, 40)"
            ]
          },
          "execution_count": 4,
          "metadata": {},
          "output_type": "execute_result"
        }
      ],
      "source": [
        "# df_list_attr = pd.read_csv('list_attr_celeba.csv')  ----------> Commented by Rashi, uncomment this if using colab\n",
        "df_list_attr = pd.read_csv('/Users/rashitiwary/Documents/George Washington University/Masters Subject/CSCI  6366 Neural network/Semester Project/Dataset/list_attr_celeba.csv')\n",
        "# df_list_attr = pd.read_csv('list_attr_celeba.csv')\n",
        "df_list_attr.set_index('image_id', inplace=True)\n",
        "df_list_attr.replace(to_replace=-1, value=0, inplace=True)  # replacing all the attributes of -1 by 0\n",
        "df_list_attr.shape"
      ]
    },
    {
      "cell_type": "code",
      "execution_count": 5,
      "metadata": {
        "colab": {
          "base_uri": "https://localhost:8080/",
          "height": 475
        },
        "id": "K0POYbLJ52e-",
        "outputId": "0f741c5f-4389-43c0-e558-54961bfdcd45"
      },
      "outputs": [
        {
          "data": {
            "text/html": [
              "<div>\n",
              "<style scoped>\n",
              "    .dataframe tbody tr th:only-of-type {\n",
              "        vertical-align: middle;\n",
              "    }\n",
              "\n",
              "    .dataframe tbody tr th {\n",
              "        vertical-align: top;\n",
              "    }\n",
              "\n",
              "    .dataframe thead th {\n",
              "        text-align: right;\n",
              "    }\n",
              "</style>\n",
              "<table border=\"1\" class=\"dataframe\">\n",
              "  <thead>\n",
              "    <tr style=\"text-align: right;\">\n",
              "      <th></th>\n",
              "      <th>5_o_Clock_Shadow</th>\n",
              "      <th>Arched_Eyebrows</th>\n",
              "      <th>Attractive</th>\n",
              "      <th>Bags_Under_Eyes</th>\n",
              "      <th>Bald</th>\n",
              "      <th>Bangs</th>\n",
              "      <th>Big_Lips</th>\n",
              "      <th>Big_Nose</th>\n",
              "      <th>Black_Hair</th>\n",
              "      <th>Blond_Hair</th>\n",
              "      <th>...</th>\n",
              "      <th>Sideburns</th>\n",
              "      <th>Smiling</th>\n",
              "      <th>Straight_Hair</th>\n",
              "      <th>Wavy_Hair</th>\n",
              "      <th>Wearing_Earrings</th>\n",
              "      <th>Wearing_Hat</th>\n",
              "      <th>Wearing_Lipstick</th>\n",
              "      <th>Wearing_Necklace</th>\n",
              "      <th>Wearing_Necktie</th>\n",
              "      <th>Young</th>\n",
              "    </tr>\n",
              "    <tr>\n",
              "      <th>image_id</th>\n",
              "      <th></th>\n",
              "      <th></th>\n",
              "      <th></th>\n",
              "      <th></th>\n",
              "      <th></th>\n",
              "      <th></th>\n",
              "      <th></th>\n",
              "      <th></th>\n",
              "      <th></th>\n",
              "      <th></th>\n",
              "      <th></th>\n",
              "      <th></th>\n",
              "      <th></th>\n",
              "      <th></th>\n",
              "      <th></th>\n",
              "      <th></th>\n",
              "      <th></th>\n",
              "      <th></th>\n",
              "      <th></th>\n",
              "      <th></th>\n",
              "      <th></th>\n",
              "    </tr>\n",
              "  </thead>\n",
              "  <tbody>\n",
              "    <tr>\n",
              "      <th>000001.jpg</th>\n",
              "      <td>0</td>\n",
              "      <td>1</td>\n",
              "      <td>1</td>\n",
              "      <td>0</td>\n",
              "      <td>0</td>\n",
              "      <td>0</td>\n",
              "      <td>0</td>\n",
              "      <td>0</td>\n",
              "      <td>0</td>\n",
              "      <td>0</td>\n",
              "      <td>...</td>\n",
              "      <td>0</td>\n",
              "      <td>1</td>\n",
              "      <td>1</td>\n",
              "      <td>0</td>\n",
              "      <td>1</td>\n",
              "      <td>0</td>\n",
              "      <td>1</td>\n",
              "      <td>0</td>\n",
              "      <td>0</td>\n",
              "      <td>1</td>\n",
              "    </tr>\n",
              "    <tr>\n",
              "      <th>000002.jpg</th>\n",
              "      <td>0</td>\n",
              "      <td>0</td>\n",
              "      <td>0</td>\n",
              "      <td>1</td>\n",
              "      <td>0</td>\n",
              "      <td>0</td>\n",
              "      <td>0</td>\n",
              "      <td>1</td>\n",
              "      <td>0</td>\n",
              "      <td>0</td>\n",
              "      <td>...</td>\n",
              "      <td>0</td>\n",
              "      <td>1</td>\n",
              "      <td>0</td>\n",
              "      <td>0</td>\n",
              "      <td>0</td>\n",
              "      <td>0</td>\n",
              "      <td>0</td>\n",
              "      <td>0</td>\n",
              "      <td>0</td>\n",
              "      <td>1</td>\n",
              "    </tr>\n",
              "    <tr>\n",
              "      <th>000003.jpg</th>\n",
              "      <td>0</td>\n",
              "      <td>0</td>\n",
              "      <td>0</td>\n",
              "      <td>0</td>\n",
              "      <td>0</td>\n",
              "      <td>0</td>\n",
              "      <td>1</td>\n",
              "      <td>0</td>\n",
              "      <td>0</td>\n",
              "      <td>0</td>\n",
              "      <td>...</td>\n",
              "      <td>0</td>\n",
              "      <td>0</td>\n",
              "      <td>0</td>\n",
              "      <td>1</td>\n",
              "      <td>0</td>\n",
              "      <td>0</td>\n",
              "      <td>0</td>\n",
              "      <td>0</td>\n",
              "      <td>0</td>\n",
              "      <td>1</td>\n",
              "    </tr>\n",
              "    <tr>\n",
              "      <th>000004.jpg</th>\n",
              "      <td>0</td>\n",
              "      <td>0</td>\n",
              "      <td>1</td>\n",
              "      <td>0</td>\n",
              "      <td>0</td>\n",
              "      <td>0</td>\n",
              "      <td>0</td>\n",
              "      <td>0</td>\n",
              "      <td>0</td>\n",
              "      <td>0</td>\n",
              "      <td>...</td>\n",
              "      <td>0</td>\n",
              "      <td>0</td>\n",
              "      <td>1</td>\n",
              "      <td>0</td>\n",
              "      <td>1</td>\n",
              "      <td>0</td>\n",
              "      <td>1</td>\n",
              "      <td>1</td>\n",
              "      <td>0</td>\n",
              "      <td>1</td>\n",
              "    </tr>\n",
              "    <tr>\n",
              "      <th>000005.jpg</th>\n",
              "      <td>0</td>\n",
              "      <td>1</td>\n",
              "      <td>1</td>\n",
              "      <td>0</td>\n",
              "      <td>0</td>\n",
              "      <td>0</td>\n",
              "      <td>1</td>\n",
              "      <td>0</td>\n",
              "      <td>0</td>\n",
              "      <td>0</td>\n",
              "      <td>...</td>\n",
              "      <td>0</td>\n",
              "      <td>0</td>\n",
              "      <td>0</td>\n",
              "      <td>0</td>\n",
              "      <td>0</td>\n",
              "      <td>0</td>\n",
              "      <td>1</td>\n",
              "      <td>0</td>\n",
              "      <td>0</td>\n",
              "      <td>1</td>\n",
              "    </tr>\n",
              "    <tr>\n",
              "      <th>...</th>\n",
              "      <td>...</td>\n",
              "      <td>...</td>\n",
              "      <td>...</td>\n",
              "      <td>...</td>\n",
              "      <td>...</td>\n",
              "      <td>...</td>\n",
              "      <td>...</td>\n",
              "      <td>...</td>\n",
              "      <td>...</td>\n",
              "      <td>...</td>\n",
              "      <td>...</td>\n",
              "      <td>...</td>\n",
              "      <td>...</td>\n",
              "      <td>...</td>\n",
              "      <td>...</td>\n",
              "      <td>...</td>\n",
              "      <td>...</td>\n",
              "      <td>...</td>\n",
              "      <td>...</td>\n",
              "      <td>...</td>\n",
              "      <td>...</td>\n",
              "    </tr>\n",
              "    <tr>\n",
              "      <th>202595.jpg</th>\n",
              "      <td>0</td>\n",
              "      <td>0</td>\n",
              "      <td>1</td>\n",
              "      <td>0</td>\n",
              "      <td>0</td>\n",
              "      <td>0</td>\n",
              "      <td>1</td>\n",
              "      <td>0</td>\n",
              "      <td>0</td>\n",
              "      <td>1</td>\n",
              "      <td>...</td>\n",
              "      <td>0</td>\n",
              "      <td>0</td>\n",
              "      <td>0</td>\n",
              "      <td>0</td>\n",
              "      <td>0</td>\n",
              "      <td>0</td>\n",
              "      <td>1</td>\n",
              "      <td>0</td>\n",
              "      <td>0</td>\n",
              "      <td>1</td>\n",
              "    </tr>\n",
              "    <tr>\n",
              "      <th>202596.jpg</th>\n",
              "      <td>0</td>\n",
              "      <td>0</td>\n",
              "      <td>0</td>\n",
              "      <td>0</td>\n",
              "      <td>0</td>\n",
              "      <td>1</td>\n",
              "      <td>1</td>\n",
              "      <td>0</td>\n",
              "      <td>0</td>\n",
              "      <td>1</td>\n",
              "      <td>...</td>\n",
              "      <td>0</td>\n",
              "      <td>1</td>\n",
              "      <td>1</td>\n",
              "      <td>0</td>\n",
              "      <td>0</td>\n",
              "      <td>0</td>\n",
              "      <td>0</td>\n",
              "      <td>0</td>\n",
              "      <td>0</td>\n",
              "      <td>1</td>\n",
              "    </tr>\n",
              "    <tr>\n",
              "      <th>202597.jpg</th>\n",
              "      <td>0</td>\n",
              "      <td>0</td>\n",
              "      <td>0</td>\n",
              "      <td>0</td>\n",
              "      <td>0</td>\n",
              "      <td>0</td>\n",
              "      <td>0</td>\n",
              "      <td>0</td>\n",
              "      <td>1</td>\n",
              "      <td>0</td>\n",
              "      <td>...</td>\n",
              "      <td>0</td>\n",
              "      <td>1</td>\n",
              "      <td>0</td>\n",
              "      <td>0</td>\n",
              "      <td>0</td>\n",
              "      <td>0</td>\n",
              "      <td>0</td>\n",
              "      <td>0</td>\n",
              "      <td>0</td>\n",
              "      <td>1</td>\n",
              "    </tr>\n",
              "    <tr>\n",
              "      <th>202598.jpg</th>\n",
              "      <td>0</td>\n",
              "      <td>1</td>\n",
              "      <td>1</td>\n",
              "      <td>0</td>\n",
              "      <td>0</td>\n",
              "      <td>0</td>\n",
              "      <td>1</td>\n",
              "      <td>0</td>\n",
              "      <td>1</td>\n",
              "      <td>0</td>\n",
              "      <td>...</td>\n",
              "      <td>0</td>\n",
              "      <td>1</td>\n",
              "      <td>0</td>\n",
              "      <td>1</td>\n",
              "      <td>1</td>\n",
              "      <td>0</td>\n",
              "      <td>1</td>\n",
              "      <td>0</td>\n",
              "      <td>0</td>\n",
              "      <td>1</td>\n",
              "    </tr>\n",
              "    <tr>\n",
              "      <th>202599.jpg</th>\n",
              "      <td>0</td>\n",
              "      <td>1</td>\n",
              "      <td>1</td>\n",
              "      <td>0</td>\n",
              "      <td>0</td>\n",
              "      <td>0</td>\n",
              "      <td>0</td>\n",
              "      <td>0</td>\n",
              "      <td>0</td>\n",
              "      <td>1</td>\n",
              "      <td>...</td>\n",
              "      <td>0</td>\n",
              "      <td>0</td>\n",
              "      <td>0</td>\n",
              "      <td>1</td>\n",
              "      <td>0</td>\n",
              "      <td>0</td>\n",
              "      <td>1</td>\n",
              "      <td>0</td>\n",
              "      <td>0</td>\n",
              "      <td>1</td>\n",
              "    </tr>\n",
              "  </tbody>\n",
              "</table>\n",
              "<p>202599 rows × 40 columns</p>\n",
              "</div>"
            ],
            "text/plain": [
              "            5_o_Clock_Shadow  Arched_Eyebrows  Attractive  Bags_Under_Eyes  \\\n",
              "image_id                                                                     \n",
              "000001.jpg                 0                1           1                0   \n",
              "000002.jpg                 0                0           0                1   \n",
              "000003.jpg                 0                0           0                0   \n",
              "000004.jpg                 0                0           1                0   \n",
              "000005.jpg                 0                1           1                0   \n",
              "...                      ...              ...         ...              ...   \n",
              "202595.jpg                 0                0           1                0   \n",
              "202596.jpg                 0                0           0                0   \n",
              "202597.jpg                 0                0           0                0   \n",
              "202598.jpg                 0                1           1                0   \n",
              "202599.jpg                 0                1           1                0   \n",
              "\n",
              "            Bald  Bangs  Big_Lips  Big_Nose  Black_Hair  Blond_Hair  ...  \\\n",
              "image_id                                                             ...   \n",
              "000001.jpg     0      0         0         0           0           0  ...   \n",
              "000002.jpg     0      0         0         1           0           0  ...   \n",
              "000003.jpg     0      0         1         0           0           0  ...   \n",
              "000004.jpg     0      0         0         0           0           0  ...   \n",
              "000005.jpg     0      0         1         0           0           0  ...   \n",
              "...          ...    ...       ...       ...         ...         ...  ...   \n",
              "202595.jpg     0      0         1         0           0           1  ...   \n",
              "202596.jpg     0      1         1         0           0           1  ...   \n",
              "202597.jpg     0      0         0         0           1           0  ...   \n",
              "202598.jpg     0      0         1         0           1           0  ...   \n",
              "202599.jpg     0      0         0         0           0           1  ...   \n",
              "\n",
              "            Sideburns  Smiling  Straight_Hair  Wavy_Hair  Wearing_Earrings  \\\n",
              "image_id                                                                     \n",
              "000001.jpg          0        1              1          0                 1   \n",
              "000002.jpg          0        1              0          0                 0   \n",
              "000003.jpg          0        0              0          1                 0   \n",
              "000004.jpg          0        0              1          0                 1   \n",
              "000005.jpg          0        0              0          0                 0   \n",
              "...               ...      ...            ...        ...               ...   \n",
              "202595.jpg          0        0              0          0                 0   \n",
              "202596.jpg          0        1              1          0                 0   \n",
              "202597.jpg          0        1              0          0                 0   \n",
              "202598.jpg          0        1              0          1                 1   \n",
              "202599.jpg          0        0              0          1                 0   \n",
              "\n",
              "            Wearing_Hat  Wearing_Lipstick  Wearing_Necklace  Wearing_Necktie  \\\n",
              "image_id                                                                       \n",
              "000001.jpg            0                 1                 0                0   \n",
              "000002.jpg            0                 0                 0                0   \n",
              "000003.jpg            0                 0                 0                0   \n",
              "000004.jpg            0                 1                 1                0   \n",
              "000005.jpg            0                 1                 0                0   \n",
              "...                 ...               ...               ...              ...   \n",
              "202595.jpg            0                 1                 0                0   \n",
              "202596.jpg            0                 0                 0                0   \n",
              "202597.jpg            0                 0                 0                0   \n",
              "202598.jpg            0                 1                 0                0   \n",
              "202599.jpg            0                 1                 0                0   \n",
              "\n",
              "            Young  \n",
              "image_id           \n",
              "000001.jpg      1  \n",
              "000002.jpg      1  \n",
              "000003.jpg      1  \n",
              "000004.jpg      1  \n",
              "000005.jpg      1  \n",
              "...           ...  \n",
              "202595.jpg      1  \n",
              "202596.jpg      1  \n",
              "202597.jpg      1  \n",
              "202598.jpg      1  \n",
              "202599.jpg      1  \n",
              "\n",
              "[202599 rows x 40 columns]"
            ]
          },
          "execution_count": 5,
          "metadata": {},
          "output_type": "execute_result"
        }
      ],
      "source": [
        "#Displaying different attributes of the images. In total, there are 40 attributes for each image.\n",
        "df_list_attr"
      ]
    },
    {
      "cell_type": "markdown",
      "metadata": {
        "id": "AXI8cZ9_DmMW"
      },
      "source": [
        "The image below plotted shows different details, and it appears based on whether the details have a '1', meaning 'Yes'. This makes it easier to understand and learn about the different details in the file."
      ]
    },
    {
      "cell_type": "code",
      "execution_count": 6,
      "metadata": {
        "colab": {
          "base_uri": "https://localhost:8080/",
          "height": 578
        },
        "id": "kz7XwAaM580K",
        "outputId": "6b560832-4bfe-4dc7-c521-7a5ee6b2c81a"
      },
      "outputs": [
        {
          "data": {
            "image/png": "[encoded data removed]",
            "text/plain": [
              "<Figure size 640x480 with 1 Axes>"
            ]
          },
          "metadata": {},
          "output_type": "display_data"
        }
      ],
      "source": [
        "label = ''\n",
        "img = load_img('/Users/rashitiwary/Documents/George Washington University/Masters Subject/CSCI  6366 Neural network/Semester Project/Dataset/img_align_celeba/img_align_celeba/054810.jpg')\n",
        "# img = load_img('img_align_celeba/054810.jpg')\n",
        "row_index = df_list_attr.index.get_loc('054810.jpg')\n",
        "\n",
        "for col in df_list_attr.columns:\n",
        "    if df_list_attr.loc['054810.jpg', col] == 1:\n",
        "        label += col + '\\n'\n",
        "\n",
        "plt.imshow(img)\n",
        "plt.title(label)\n",
        "plt.show()"
      ]
    },
    {
      "cell_type": "markdown",
      "metadata": {
        "id": "pM7vpB6CR9ZD"
      },
      "source": [
        "The below block of code is for myself just to check if the files are getting unzipped correctly. Ignore this block of code - Rashi"
      ]
    },
    {
      "cell_type": "code",
      "execution_count": 7,
      "metadata": {
        "colab": {
          "base_uri": "https://localhost:8080/"
        },
        "id": "NRVnak3ef2nI",
        "outputId": "e890e092-fc9b-4526-c4bf-19896a6f6f65"
      },
      "outputs": [
        {
          "name": "stdout",
          "output_type": "stream",
          "text": [
            "Number of image files: 202599\n"
          ]
        }
      ],
      "source": [
        "import os\n",
        "\n",
        "# Specify the path to your Google Drive folder\n",
        "folder_path = '/Users/rashitiwary/Documents/George Washington University/Masters Subject/CSCI  6366 Neural network/Semester Project/Dataset/img_align_celeba/img_align_celeba/'\n",
        "\n",
        "# Get a list of all files in the directory\n",
        "all_files = os.listdir(folder_path)\n",
        "\n",
        "# Filter image files (you can customize the list of valid extensions)\n",
        "image_extensions = ['.jpg', '.jpeg']\n",
        "image_files = [file for file in all_files if any(file.lower().endswith(ext) for ext in image_extensions)]\n",
        "\n",
        "# Count the number of image files\n",
        "num_image_files = len(image_files)\n",
        "\n",
        "# Print the result\n",
        "print(f\"Number of image files: {num_image_files}\")\n"
      ]
    },
    {
      "cell_type": "code",
      "execution_count": 9,
      "metadata": {
        "colab": {
          "base_uri": "https://localhost:8080/"
        },
        "id": "AkcySGD4Fik2",
        "outputId": "cf567485-74af-4fc0-89cc-c35fb122e272"
      },
      "outputs": [
        {
          "name": "stdout",
          "output_type": "stream",
          "text": [
            "Image shape: (64, 64, 3)\n"
          ]
        }
      ],
      "source": [
        "# Printing the shape of the image used in previous code cell, before resizing\n",
        "img_array = np.array(img)\n",
        "print(\"Image shape:\", img_array.shape)"
      ]
    },
    {
      "cell_type": "markdown",
      "metadata": {
        "id": "XY9EauKXsyAh"
      },
      "source": [
        "The below code is of the file list_eval_partition.csv. This file contains the partition of the data in training, validation and testing dataset."
      ]
    },
    {
      "cell_type": "code",
      "execution_count": 10,
      "metadata": {
        "colab": {
          "base_uri": "https://localhost:8080/",
          "height": 206
        },
        "id": "DwfCJMB5Zin-",
        "outputId": "2db727e4-508f-4b59-8bbf-62e6c0faa51d"
      },
      "outputs": [
        {
          "data": {
            "text/html": [
              "<div>\n",
              "<style scoped>\n",
              "    .dataframe tbody tr th:only-of-type {\n",
              "        vertical-align: middle;\n",
              "    }\n",
              "\n",
              "    .dataframe tbody tr th {\n",
              "        vertical-align: top;\n",
              "    }\n",
              "\n",
              "    .dataframe thead th {\n",
              "        text-align: right;\n",
              "    }\n",
              "</style>\n",
              "<table border=\"1\" class=\"dataframe\">\n",
              "  <thead>\n",
              "    <tr style=\"text-align: right;\">\n",
              "      <th></th>\n",
              "      <th>image_id</th>\n",
              "      <th>partition</th>\n",
              "    </tr>\n",
              "  </thead>\n",
              "  <tbody>\n",
              "    <tr>\n",
              "      <th>0</th>\n",
              "      <td>000001.jpg</td>\n",
              "      <td>0</td>\n",
              "    </tr>\n",
              "    <tr>\n",
              "      <th>1</th>\n",
              "      <td>000002.jpg</td>\n",
              "      <td>0</td>\n",
              "    </tr>\n",
              "    <tr>\n",
              "      <th>2</th>\n",
              "      <td>000003.jpg</td>\n",
              "      <td>0</td>\n",
              "    </tr>\n",
              "    <tr>\n",
              "      <th>3</th>\n",
              "      <td>000004.jpg</td>\n",
              "      <td>0</td>\n",
              "    </tr>\n",
              "    <tr>\n",
              "      <th>4</th>\n",
              "      <td>000005.jpg</td>\n",
              "      <td>0</td>\n",
              "    </tr>\n",
              "  </tbody>\n",
              "</table>\n",
              "</div>"
            ],
            "text/plain": [
              "     image_id  partition\n",
              "0  000001.jpg          0\n",
              "1  000002.jpg          0\n",
              "2  000003.jpg          0\n",
              "3  000004.jpg          0\n",
              "4  000005.jpg          0"
            ]
          },
          "execution_count": 10,
          "metadata": {},
          "output_type": "execute_result"
        }
      ],
      "source": [
        "#Overview of list_eval_partition.csv\n",
        "# df_partition_list = pd.read_csv('list_eval_partition.csv')\n",
        "df_partition_list = pd.read_csv('/Users/rashitiwary/Documents/George Washington University/Masters Subject/CSCI  6366 Neural network/Semester Project/Dataset/list_eval_partition.csv')\n",
        "df_partition_list.head()"
      ]
    },
    {
      "cell_type": "code",
      "execution_count": 11,
      "metadata": {
        "colab": {
          "base_uri": "https://localhost:8080/"
        },
        "id": "eyJSUtGsCKZF",
        "outputId": "a55e62e5-962f-4795-a15d-04f7976ae71c"
      },
      "outputs": [
        {
          "data": {
            "text/plain": [
              "partition\n",
              "0    162770\n",
              "1     19867\n",
              "2     19962\n",
              "dtype: int64"
            ]
          },
          "execution_count": 11,
          "metadata": {},
          "output_type": "execute_result"
        }
      ],
      "source": [
        "#Partition columns is defined as follows: 0 for training, 1 for validation and 2 for testing dataset\n",
        "df_partition_list.groupby('partition').size().sort_index()"
      ]
    },
    {
      "cell_type": "code",
      "execution_count": 18,
      "metadata": {
        "id": "oaGwiaRyVaCX"
      },
      "outputs": [],
      "source": [
        "directory_path = '/Users/rashitiwary/Documents/George Washington University/Masters Subject/CSCI  6366 Neural network/Semester Project/Dataset/img_align_celeba/img_align_celeba/'\n",
        "# directory_path = '/content/drive/MyDrive/img_align_celeba/img_align_celeba'  ----------> Commented by Rashi, uncomment this if using colab\n",
        "image_list = os.listdir(directory_path)\n",
        "for image in image_list:\n",
        "\n",
        "    # Construct the full file path\n",
        "    image_path = os.path.join(directory_path, image)\n",
        "\n",
        "    # Open the image using Pillow\n",
        "    image = Image.open(image_path)\n",
        "\n",
        "    # Resize the image to (64, 64)\n",
        "    resized_image = image.resize((64, 64))\n",
        "\n",
        "    # Save the resized image, overwriting the original file\n",
        "    resized_image.save(image_path)"
      ]
    },
    {
      "cell_type": "code",
      "execution_count": 12,
      "metadata": {
        "colab": {
          "base_uri": "https://localhost:8080/"
        },
        "id": "J1wuwqRd6Ee3",
        "outputId": "6de7d0d6-7040-4d23-9073-8c26bdf47988"
      },
      "outputs": [
        {
          "name": "stdout",
          "output_type": "stream",
          "text": [
            "Image shape: (64, 64, 3)\n"
          ]
        }
      ],
      "source": [
        "#Reshaped the image\n",
        "# img = load_img('img_align_celeba/081169.jpg')\n",
        "img = load_img('/Users/rashitiwary/Documents/George Washington University/Masters Subject/CSCI  6366 Neural network/Semester Project/Dataset/img_align_celeba/img_align_celeba/134526.jpg')\n",
        "img_array = np.array(img)\n",
        "print(\"Image shape:\", img_array.shape)"
      ]
    },
    {
      "cell_type": "code",
      "execution_count": 13,
      "metadata": {
        "id": "qdamGc8TuMU6"
      },
      "outputs": [],
      "source": [
        "#Splitting data into training, validation and testing dataset\n",
        "#df_partition_list contains the partition of test,training and validation datasets\n",
        "\n",
        "# directory_path = './img_align_celeba/'\n",
        "directory_path = '/Users/rashitiwary/Documents/George Washington University/Masters Subject/CSCI  6366 Neural network/Semester Project/Dataset/img_align_celeba/img_align_celeba/'\n",
        "training_dataset = []\n",
        "validation_dataset = []\n",
        "test_dataset = []\n",
        "\n",
        "for i in df_partition_list['image_id']:\n",
        "    file_path = directory_path + i\n",
        "    partition = df_partition_list[df_partition_list['image_id'] == i]['partition'].values[0]\n",
        "    if partition == 0:\n",
        "        im = load_img(file_path)\n",
        "        training_dataset.append(np.array(im))\n",
        "    elif partition == 1:\n",
        "        im = load_img(file_path)\n",
        "        validation_dataset.append(np.array(im))\n",
        "    elif partition == 2:\n",
        "        im = load_img(file_path)\n",
        "        test_dataset.append(np.array(im))\n",
        "\n",
        "training_data = np.asarray(training_dataset).astype('float32')\n",
        "validation_data = np.asarray(validation_dataset).astype('float32')\n",
        "test_data = np.asarray(test_dataset).astype('float32')\n",
        "\n",
        "training_data = training_data / 255.0\n",
        "validation_data = validation_data / 255.0\n",
        "test_data = test_data / 255.0"
      ]
    },
    {
      "cell_type": "code",
      "execution_count": 14,
      "metadata": {},
      "outputs": [
        {
          "name": "stdout",
          "output_type": "stream",
          "text": [
            "Model: \"encoder_model\"\n",
            "__________________________________________________________________________________________________\n",
            " Layer (type)                Output Shape                 Param #   Connected to                  \n",
            "==================================================================================================\n",
            " encoder_input (InputLayer)  [(None, 64, 64, 3)]          0         []                            \n",
            "                                                                                                  \n",
            " conv2d (Conv2D)             (None, 64, 64, 32)           896       ['encoder_input[0][0]']       \n",
            "                                                                                                  \n",
            " conv2d_1 (Conv2D)           (None, 64, 64, 64)           18496     ['conv2d[0][0]']              \n",
            "                                                                                                  \n",
            " flatten (Flatten)           (None, 262144)               0         ['conv2d_1[0][0]']            \n",
            "                                                                                                  \n",
            " dropout (Dropout)           (None, 262144)               0         ['flatten[0][0]']             \n",
            "                                                                                                  \n",
            " dense (Dense)               (None, 32)                   8388640   ['dropout[0][0]']             \n",
            "                                                                                                  \n",
            " dense_1 (Dense)             (None, 32)                   8388640   ['dropout[0][0]']             \n",
            "                                                                                                  \n",
            " encoder_output (Dense)      (None, 32)                   8388640   ['dropout[0][0]']             \n",
            "                                                                                                  \n",
            "==================================================================================================\n",
            "Total params: 25185312 (96.07 MB)\n",
            "Trainable params: 25185312 (96.07 MB)\n",
            "Non-trainable params: 0 (0.00 Byte)\n",
            "__________________________________________________________________________________________________\n"
          ]
        }
      ],
      "source": [
        "#Building encoder\n",
        "latent_dim = 32\n",
        "input_shape = (64,64,3)\n",
        "\n",
        "encoder_input = Input(shape=input_shape, name='encoder_input')\n",
        "x = Conv2D(32, kernel_size=3, activation='relu', padding='same')(encoder_input)\n",
        "x = Conv2D(64, kernel_size=3, activation='relu', padding='same')(x)\n",
        "# x = Conv2D(128, kernel_size=3, activation='relu', padding='same')(x)\n",
        "\n",
        "convolution_shape = keras.backend.int_shape(x)\n",
        "\n",
        "x = Flatten()(x)\n",
        "x = Dropout(0.2)(x)\n",
        "# x = Dense(64, activation='relu')(x)\n",
        "\n",
        "# Parameters for the VAE\n",
        "z_mean = Dense(latent_dim)(x)\n",
        "z_log_var = Dense(latent_dim)(x)\n",
        "\n",
        "# # Sampling layer\n",
        "# def sampling(args):\n",
        "#     z_mean, z_log_var = args\n",
        "#     batch = tf.shape(z_mean)[0]\n",
        "#     dim = tf.shape(z_mean)[1]\n",
        "#     epsilon = tf.random.normal(shape=(batch, dim))\n",
        "#     return z_mean + tf.exp(0.5 * z_log_var) * epsilon\n",
        "\n",
        "# z = Lambda(sampling, output_shape=(latent_dim,))([z_mean, z_log_var])\n",
        "\n",
        "class SamplingLayer(layers.Layer):\n",
        "    def call(self, inputs, **kwargs):\n",
        "        z_mean, z_log_var = inputs\n",
        "        batch = tf.shape(z_mean)[0]\n",
        "        dim = tf.shape(z_mean)[1]\n",
        "        epsilon = tf.random.normal(shape=(batch, dim))\n",
        "        return z_mean + tf.exp(0.5 * z_log_var) * epsilon\n",
        "\n",
        "# Usage\n",
        "z = SamplingLayer()([z_mean, z_log_var])\n",
        "\n",
        "\n",
        "# Encoder output\n",
        "encoder_output = Dense(latent_dim, activation='linear', name='encoder_output')(x)\n",
        "\n",
        "# Create the encoder model\n",
        "encoder_model = Model(encoder_input, [z_mean, z_log_var, encoder_output], name='encoder_model')\n",
        "\n",
        "encoder_model.summary()"
      ]
    },
    {
      "cell_type": "code",
      "execution_count": 15,
      "metadata": {},
      "outputs": [
        {
          "name": "stdout",
          "output_type": "stream",
          "text": [
            "(None, 64, 64, 64)\n"
          ]
        }
      ],
      "source": [
        "# convolution_shape = keras.backend.int_shape(x) \n",
        "print(convolution_shape)"
      ]
    },
    {
      "cell_type": "code",
      "execution_count": 16,
      "metadata": {
        "colab": {
          "base_uri": "https://localhost:8080/"
        },
        "id": "dRknJGQZclCi",
        "outputId": "72908eb5-34b6-445a-af05-22170e482102"
      },
      "outputs": [
        {
          "name": "stdout",
          "output_type": "stream",
          "text": [
            "Model: \"decoder\"\n",
            "_________________________________________________________________\n",
            " Layer (type)                Output Shape              Param #   \n",
            "=================================================================\n",
            " decoder_input (InputLayer)  [(None, 32)]              0         \n",
            "                                                                 \n",
            " dense_2 (Dense)             (None, 262144)            8650752   \n",
            "                                                                 \n",
            " reshape (Reshape)           (None, 64, 64, 64)        0         \n",
            "                                                                 \n",
            " conv2d_transpose (Conv2DTr  (None, 64, 64, 64)        36928     \n",
            " anspose)                                                        \n",
            "                                                                 \n",
            " conv2d_transpose_1 (Conv2D  (None, 64, 64, 32)        18464     \n",
            " Transpose)                                                      \n",
            "                                                                 \n",
            " decoder_output (Conv2DTran  (None, 64, 64, 3)         867       \n",
            " spose)                                                          \n",
            "                                                                 \n",
            "=================================================================\n",
            "Total params: 8707011 (33.21 MB)\n",
            "Trainable params: 8707011 (33.21 MB)\n",
            "Non-trainable params: 0 (0.00 Byte)\n",
            "_________________________________________________________________\n"
          ]
        }
      ],
      "source": [
        "# Decoder\n",
        "decoder_input = Input(shape = (latent_dim, ), name = 'decoder_input')\n",
        "x = Dense(convolution_shape[1] * convolution_shape[2] * convolution_shape[3], activation = 'relu')(decoder_input)\n",
        "\n",
        "# reshaping to the last convolution layer of encoder, so that we can upsacle to the original shape\n",
        "x = Reshape((convolution_shape[1], convolution_shape[2], convolution_shape[3]))(x)\n",
        "\n",
        "# Conv2DTranspose to perform the reverse of convolution layers from encoder\n",
        "x = Conv2DTranspose(64, kernel_size = 3, padding = 'same', activation = 'relu')(x)\n",
        "\n",
        "#Added to check\n",
        "x = Conv2DTranspose(32, kernel_size = 3, padding = 'same', activation = 'relu')(x)\n",
        "\n",
        "# another Conv2DTranspose just for fun, but with sigmoid activation\n",
        "x = Conv2DTranspose(3, kernel_size = 3, padding = 'same', activation = 'sigmoid', name = 'decoder_output')(x)\n",
        "\n",
        "# create the decoder model\n",
        "decoder_model = Model(decoder_input, x, name = 'decoder')\n",
        "\n",
        "decoder_model.summary()\n"
      ]
    },
    {
      "cell_type": "code",
      "execution_count": 17,
      "metadata": {
        "id": "k89ZeJV7g6Ji"
      },
      "outputs": [
        {
          "name": "stdout",
          "output_type": "stream",
          "text": [
            "(None, 64, 64, 3)\n"
          ]
        }
      ],
      "source": [
        "z_decoded = decoder_model(z)\n",
        "print(z_decoded.shape)"
      ]
    },
    {
      "cell_type": "code",
      "execution_count": 18,
      "metadata": {
        "id": "noTgXHRLhCLP"
      },
      "outputs": [
        {
          "name": "stdout",
          "output_type": "stream",
          "text": [
            "KerasTensor(type_spec=TensorSpec(shape=(None, 64, 64, 3), dtype=tf.float32, name=None), name='Placeholder:0', description=\"created by layer 'custom_layer'\")\n"
          ]
        }
      ],
      "source": [
        "# # Custom Loss for VAE, combination of Reconstruction loss and KL divergence\n",
        "# class CustomLayer(keras.layers.Layer):\n",
        "\n",
        "#     def vae_loss(self, x, z_decoded):\n",
        "#         x = tf.keras.backend.flatten(x)\n",
        "#         z_decoded = tf.keras.backend.flatten(z_decoded)\n",
        "\n",
        "#         # Reconstruction loss since we're using sigmoid in the last layer we can use binary-crossentropy\n",
        "#         recon_loss = tf.keras.metrics.binary_crossentropy(x, z_decoded)\n",
        "\n",
        "#         # KL divergence\n",
        "#         kl_loss = -5e-4 * tf.keras.backend.mean(1 + z_decoded - tf.square(z_mean) - tf.exp(z_log_var), axis = -1)\n",
        "#         return K.mean(recon_loss + kl_loss)\n",
        "\n",
        "#     def call(self, inputs):\n",
        "#         x = inputs[0]\n",
        "#         z_decoded = inputs[1]\n",
        "#         loss = self.vae_loss(x, z_decoded)\n",
        "#         self.add_loss(loss, inputs = inputs)\n",
        "#         return x\n",
        "\n",
        "# # apply the custom loss to the input images and the decoded latent distribution sample\n",
        "# y = CustomLayer()([encoder_input, z_decoded])\n",
        "\n",
        "# print(y)\n",
        "\n",
        "############################### New code below with slight changes for Custom loss as the above code was throwing TypeError, keeping old code for reference - Rashi #########################\n",
        "class CustomLayer(tf.keras.layers.Layer):\n",
        "\n",
        "    def vae_loss(self, x, z_decoded, z_mean, z_log_var):\n",
        "        x = tf.keras.backend.flatten(x)\n",
        "        z_decoded = tf.keras.backend.flatten(z_decoded)\n",
        "\n",
        "        # Reconstruction loss using binary_crossentropy\n",
        "        recon_loss = binary_crossentropy(x, z_decoded)\n",
        "\n",
        "        # KL divergence\n",
        "        kl_loss = -5e-4 * tf.keras.backend.mean(1 + z_log_var - tf.square(z_mean) - tf.exp(z_log_var), axis=-1)\n",
        "\n",
        "        return K.mean(recon_loss + kl_loss)\n",
        "\n",
        "    def call(self, inputs):\n",
        "        x = inputs[0]\n",
        "        z_decoded = inputs[1]\n",
        "        z_mean = inputs[2]  # Assuming z_mean is the third input\n",
        "        z_log_var = inputs[3]  # Assuming z_log_var is the fourth input\n",
        "\n",
        "        loss = self.vae_loss(x, z_decoded, z_mean, z_log_var)\n",
        "        self.add_loss(loss, inputs=inputs)\n",
        "        return x\n",
        "\n",
        "# Assuming encoder_input, z_decoded, z_mean, and z_log_var are your tensors\n",
        "y = CustomLayer()([encoder_input, z_decoded, z_mean, z_log_var])\n",
        "\n",
        "print(y)\n"
      ]
    },
    {
      "cell_type": "code",
      "execution_count": 19,
      "metadata": {
        "colab": {
          "base_uri": "https://localhost:8080/"
        },
        "id": "jO_cSNGviooS",
        "outputId": "6356621d-33bb-43c0-f67f-eef90270444f"
      },
      "outputs": [
        {
          "name": "stdout",
          "output_type": "stream",
          "text": [
            "Model: \"model\"\n",
            "__________________________________________________________________________________________________\n",
            " Layer (type)                Output Shape                 Param #   Connected to                  \n",
            "==================================================================================================\n",
            " encoder_input (InputLayer)  [(None, 64, 64, 3)]          0         []                            \n",
            "                                                                                                  \n",
            " conv2d (Conv2D)             (None, 64, 64, 32)           896       ['encoder_input[0][0]']       \n",
            "                                                                                                  \n",
            " conv2d_1 (Conv2D)           (None, 64, 64, 64)           18496     ['conv2d[0][0]']              \n",
            "                                                                                                  \n",
            " flatten (Flatten)           (None, 262144)               0         ['conv2d_1[0][0]']            \n",
            "                                                                                                  \n",
            " dropout (Dropout)           (None, 262144)               0         ['flatten[0][0]']             \n",
            "                                                                                                  \n",
            " dense (Dense)               (None, 32)                   8388640   ['dropout[0][0]']             \n",
            "                                                                                                  \n",
            " dense_1 (Dense)             (None, 32)                   8388640   ['dropout[0][0]']             \n",
            "                                                                                                  \n",
            " sampling_layer (SamplingLa  (None, 32)                   0         ['dense[0][0]',               \n",
            " yer)                                                                'dense_1[0][0]']             \n",
            "                                                                                                  \n",
            " decoder (Functional)        (None, 64, 64, 3)            8707011   ['sampling_layer[0][0]']      \n",
            "                                                                                                  \n",
            " custom_layer (CustomLayer)  (None, 64, 64, 3)            0         ['encoder_input[0][0]',       \n",
            "                                                                     'decoder[0][0]',             \n",
            "                                                                     'dense[0][0]',               \n",
            "                                                                     'dense_1[0][0]']             \n",
            "                                                                                                  \n",
            "==================================================================================================\n",
            "Total params: 25503683 (97.29 MB)\n"
          ]
        },
        {
          "name": "stdout",
          "output_type": "stream",
          "text": [
            "Trainable params: 25503683 (97.29 MB)\n",
            "Non-trainable params: 0 (0.00 Byte)\n",
            "__________________________________________________________________________________________________\n"
          ]
        }
      ],
      "source": [
        "vae = Model(encoder_input, y)\n",
        "vae.compile(optimizer = 'adam')\n",
        "vae.summary()"
      ]
    },
    {
      "cell_type": "code",
      "execution_count": 16,
      "metadata": {
        "colab": {
          "base_uri": "https://localhost:8080/",
          "height": 738
        },
        "id": "ESuHaZIRi8lT",
        "outputId": "23bce000-e726-4a11-c4c8-8b105e4deba2"
      },
      "outputs": [
        {
          "name": "stdout",
          "output_type": "stream",
          "text": [
            "Epoch 1/5\n",
            "5087/5087 [==============================] - 397s 77ms/step - loss: 0.0014 - val_loss: 6.7498\n",
            "Epoch 2/5\n",
            "5087/5087 [==============================] - 550s 108ms/step - loss: 2.1262e-08 - val_loss: 6.7723\n",
            "Epoch 3/5\n",
            "5087/5087 [==============================] - 385s 76ms/step - loss: 7.8660e-10 - val_loss: 6.7916\n",
            "Epoch 4/5\n",
            "5087/5087 [==============================] - 386s 76ms/step - loss: 6.5820e-11 - val_loss: 6.8009\n",
            "Epoch 5/5\n",
            "5087/5087 [==============================] - 566s 111ms/step - loss: -1.2662e-11 - val_loss: 6.8056\n"
          ]
        },
        {
          "data": {
            "text/plain": [
              "<keras.src.callbacks.History at 0x2a07c5cc0>"
            ]
          },
          "execution_count": 16,
          "metadata": {},
          "output_type": "execute_result"
        }
      ],
      "source": [
        "vae.fit(training_data, None, epochs = 5, batch_size = 32, validation_data = (validation_data, None))"
      ]
    },
    {
      "cell_type": "code",
      "execution_count": 20,
      "metadata": {},
      "outputs": [
        {
          "name": "stdout",
          "output_type": "stream",
          "text": [
            "624/624 [==============================] - 11s 18ms/step\n",
            "624/624 [==============================] - 37s 60ms/step\n"
          ]
        },
        {
          "data": {
            "image/png": "[encoded data removed]",
            "text/plain": [
              "<Figure size 640x480 with 1 Axes>"
            ]
          },
          "metadata": {},
          "output_type": "display_data"
        }
      ],
      "source": [
        "def sample_latent_space(z_mean, z_log_var):\n",
        "    batch, latent_dim = z_mean.shape\n",
        "    epsilon = np.random.normal(size=(batch, latent_dim))\n",
        "    return z_mean + np.exp(0.5 * z_log_var) * epsilon\n",
        "\n",
        "def get_z_mean_z_log_var(input_image):\n",
        "    z_mean, z_log_var, _ = encoder_model.predict(input_image)\n",
        "    return z_mean, z_log_var\n",
        "\n",
        "\n",
        "z_mean_value, z_log_var_value = get_z_mean_z_log_var(test_data)\n",
        "\n",
        "latent_vector = sample_latent_space(z_mean_value, z_log_var_value)\n",
        "\n",
        "generated_image = decoder_model.predict(latent_vector)\n",
        "\n",
        "plt.imshow(generated_image[0])\n",
        "plt.show()"
      ]
    },
    {
      "cell_type": "code",
      "execution_count": 21,
      "metadata": {},
      "outputs": [],
      "source": [
        "# Discriminator model\n",
        "discriminator_input = Input(shape=(latent_dim,), name='discriminator_input')\n",
        "x = Dense(64, activation = 'relu')(discriminator_input)\n",
        "x = Dense(32)(x)\n",
        "discriminator_output = Dense(1, activation='sigmoid', name='discriminator_output')(x)\n",
        "\n",
        "discriminator_model = Model(discriminator_input, discriminator_output, name='discriminator_model')"
      ]
    },
    {
      "cell_type": "code",
      "execution_count": 22,
      "metadata": {},
      "outputs": [
        {
          "name": "stdout",
          "output_type": "stream",
          "text": [
            "Model: \"discriminator_model\"\n",
            "_________________________________________________________________\n",
            " Layer (type)                Output Shape              Param #   \n",
            "=================================================================\n",
            " discriminator_input (Input  [(None, 32)]              0         \n",
            " Layer)                                                          \n",
            "                                                                 \n",
            " dense_3 (Dense)             (None, 64)                2112      \n",
            "                                                                 \n",
            " dense_4 (Dense)             (None, 32)                2080      \n",
            "                                                                 \n",
            " discriminator_output (Dens  (None, 1)                 33        \n",
            " e)                                                              \n",
            "                                                                 \n",
            "=================================================================\n",
            "Total params: 4225 (16.50 KB)\n",
            "Trainable params: 4225 (16.50 KB)\n",
            "Non-trainable params: 0 (0.00 Byte)\n",
            "_________________________________________________________________\n"
          ]
        }
      ],
      "source": [
        "discriminator_model.compile(optimizer='adam',loss='binary_crossentropy', metrics=['accuracy'])\n",
        "discriminator_model.summary()"
      ]
    },
    {
      "cell_type": "code",
      "execution_count": 23,
      "metadata": {},
      "outputs": [
        {
          "name": "stdout",
          "output_type": "stream",
          "text": [
            "Model: \"model_1\"\n",
            "__________________________________________________________________________________________________\n",
            " Layer (type)                Output Shape                 Param #   Connected to                  \n",
            "==================================================================================================\n",
            " encoder_input (InputLayer)  [(None, 64, 64, 3)]          0         []                            \n",
            "                                                                                                  \n",
            " encoder_model (Functional)  [(None, 32),                 2518531   ['encoder_input[0][0]']       \n",
            "                              (None, 32),                 2                                       \n",
            "                              (None, 32)]                                                         \n",
            "                                                                                                  \n",
            " model (Functional)          (None, 64, 64, 3)            2550368   ['encoder_input[0][0]']       \n",
            "                                                          3                                       \n",
            "                                                                                                  \n",
            " discriminator_model (Funct  (None, 1)                    4225      ['encoder_model[0][0]',       \n",
            " ional)                                                              'encoder_model[0][1]',       \n",
            "                                                                     'encoder_model[0][2]']       \n",
            "                                                                                                  \n",
            "==================================================================================================\n",
            "Total params: 33896548 (129.31 MB)\n",
            "Trainable params: 33896548 (129.31 MB)\n",
            "Non-trainable params: 0 (0.00 Byte)\n",
            "__________________________________________________________________________________________________\n"
          ]
        }
      ],
      "source": [
        "aae_output = discriminator_model(encoder_model(encoder_input))\n",
        "aae = Model(inputs=encoder_input, outputs=[vae(encoder_input), aae_output])\n",
        "aae.compile(optimizer='adam', loss={'vae': 'CustomLayer()', 'discriminator_model': binary_crossentropy})\n",
        "aae.summary()"
      ]
    },
    {
      "cell_type": "code",
      "execution_count": 24,
      "metadata": {},
      "outputs": [
        {
          "name": "stdout",
          "output_type": "stream",
          "text": [
            "Starting vae loss\n",
            "5087/5087 [==============================] - 1149s 226ms/step - loss: 0.5189\n",
            "Starting generated_samples\n",
            "5087/5087 [==============================] - 12s 2ms/step\n",
            "Starting real and fake labels\n",
            "Starting discriminator loss\n"
          ]
        },
        {
          "ename": "",
          "evalue": "",
          "output_type": "error",
          "traceback": [
            "\u001b[1;31mThe Kernel crashed while executing code in the the current cell or a previous cell. Please review the code in the cell(s) to identify a possible cause of the failure. Click <a href='https://aka.ms/vscodeJupyterKernelCrash'>here</a> for more info. View Jupyter <a href='command:jupyter.viewOutput'>log</a> for further details."
          ]
        }
      ],
      "source": [
        "epochs = 10\n",
        "batch_size =32 \n",
        "\n",
        "for epoch in range(epochs):\n",
        "\n",
        "    print(\"Starting vae loss\")\n",
        "    # Train the VAE\n",
        "    vae_loss=vae.fit(training_data, None, batch_size = 32)\n",
        "\n",
        "    print(\"Starting generated_samples\")\n",
        "    # Generate fake samples using the VAE\n",
        "    generated_samples = vae.predict(training_data)\n",
        "\n",
        "    # Create labels for real and generated samples\n",
        "    print(\"Starting real and fake labels\")\n",
        "    real_labels = np.ones((len(training_data), 1))\n",
        "    fake_labels = np.zeros((len(training_data), 1))\n",
        "\n",
        "    print(\"Starting discriminator loss\")\n",
        "    # Train the discriminator with real and generated samples\n",
        "    discriminator_loss = discriminator_model.fit(np.concatenate([training_data, generated_samples]),np.concatenate([real_labels, fake_labels]))\n",
        "\n",
        "    # Print or log the losses for monitoring\n",
        "    print(f'Epoch {epoch + 1}/{epochs}, VAE Loss: {vae_loss[\"vae\"]}, Discriminator Loss: {discriminator_loss}')"
      ]
    }
  ],
  "metadata": {
    "accelerator": "GPU",
    "colab": {
      "provenance": []
    },
    "kernelspec": {
      "display_name": "Python 3",
      "name": "python3"
    },
    "language_info": {
      "codemirror_mode": {
        "name": "ipython",
        "version": 3
      },
      "file_extension": ".py",
      "mimetype": "text/x-python",
      "name": "python",
      "nbconvert_exporter": "python",
      "pygments_lexer": "ipython3",
      "version": "3.10.10"
    }
  },
  "nbformat": 4,
  "nbformat_minor": 0
}
